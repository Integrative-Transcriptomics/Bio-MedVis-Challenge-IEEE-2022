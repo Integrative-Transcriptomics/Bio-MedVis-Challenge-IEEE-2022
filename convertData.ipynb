{
 "cells": [
  {
   "cell_type": "code",
   "execution_count": 1,
   "id": "a27be18e",
   "metadata": {},
   "outputs": [],
   "source": [
    "import numpy as np\n",
    "import math\n",
    "import json"
   ]
  },
  {
   "cell_type": "code",
   "execution_count": 2,
   "id": "286f2c2b",
   "metadata": {},
   "outputs": [],
   "source": [
    "# Parse Protein Data\n",
    "proteins = { }\n",
    "header = True\n",
    "headerValues = [ ]\n",
    "lineValues = [ ]\n",
    "with open( \"./data/BioVis-challenge-alphafold-data.csv\", \"r\" ) as alphafoldData :\n",
    "    line = alphafoldData.readline( )\n",
    "    while line :\n",
    "        if header :\n",
    "            header = False\n",
    "            headerValues = line.strip( ).split( \",\" )\n",
    "        else :\n",
    "            lineValues = line.strip( ).split( \",\" )\n",
    "            if not lineValues[ 0 ] in proteins :\n",
    "                proteins[ lineValues[ 0 ] ] = { \"residues\": { } }\n",
    "            proteins[ lineValues[ 0 ] ][ \"residues\" ][ lineValues[ 1 ] + \"@\" + lineValues[ 2 ] ] = {\n",
    "                \"coordinates\": dict( zip( headerValues[ 4:16 ], [ float( v ) if v != '' else 'null' for v in lineValues[ 4:16 ] ] ) ),\n",
    "                \"structureInformation\": dict( zip( headerValues[ 16:18 ], lineValues[ 16:18 ] ) ),\n",
    "                \"ptm\": [ ],\n",
    "                \"contacts\": [ ]\n",
    "            }\n",
    "        line = alphafoldData.readline( )"
   ]
  },
  {
   "cell_type": "code",
   "execution_count": 3,
   "id": "9b9b7092",
   "metadata": {
    "scrolled": true
   },
   "outputs": [],
   "source": [
    "# Enrich Protein Data with PTMs\n",
    "header = True\n",
    "headerValues = [ ]\n",
    "lineValues = [ ]\n",
    "with open( \"./data/BioVis-challenge-test-data.csv\", \"r\" ) as testData :\n",
    "    line = testData.readline( )\n",
    "    while line :\n",
    "        if header :\n",
    "            header = False\n",
    "            headerValues = line.strip( ).split( \",\" )\n",
    "        else :\n",
    "            lineValues = line.strip( ).split( \",\" )\n",
    "            ACC = lineValues[ 0 ]\n",
    "            if \"classification\" not in proteins[ ACC ] :\n",
    "                proteins[ ACC ][ \"classification\" ] = lineValues[ 4 ]\n",
    "            proteins[ ACC ][ \"residues\" ][ lineValues[ 1 ] + \"@\" + lineValues[ 2 ] ][ \"ptm\" ].append( lineValues[ 3 ] )\n",
    "            proteins[ ACC ][ \"residues\" ][ lineValues[ 1 ] + \"@\" + lineValues[ 2 ] ][ \"predicted_class\" ].append( lineValues[ 7 ] ) # Adds class for artefact catching\n",
    "        line = testData.readline( )"
   ]
  },
  {
   "cell_type": "code",
   "execution_count": 4,
   "id": "ea810125",
   "metadata": {},
   "outputs": [],
   "source": [
    "# Infer close contacts, i.e. ca below 5 Angstrom\n",
    "for ACC in proteins :\n",
    "    for ri in proteins[ ACC ][ \"residues\" ] :\n",
    "        ri_x = proteins[ ACC ][ \"residues\" ][ ri ][ \"coordinates\" ][ \"x_coord_ca\" ]\n",
    "        ri_y = proteins[ ACC ][ \"residues\" ][ ri ][ \"coordinates\" ][ \"y_coord_ca\" ]\n",
    "        ri_z = proteins[ ACC ][ \"residues\" ][ ri ][ \"coordinates\" ][ \"z_coord_ca\" ]\n",
    "        for rj in proteins[ ACC ][ \"residues\" ] :\n",
    "            if ri != rj :\n",
    "                rj_x = proteins[ ACC ][ \"residues\" ][ rj ][ \"coordinates\" ][ \"x_coord_ca\" ]\n",
    "                rj_y = proteins[ ACC ][ \"residues\" ][ rj ][ \"coordinates\" ][ \"y_coord_ca\" ]\n",
    "                rj_z = proteins[ ACC ][ \"residues\" ][ ri ][ \"coordinates\" ][ \"z_coord_ca\" ]\n",
    "                distance = math.dist(\n",
    "                    ( ri_x, ri_y, ri_z ),\n",
    "                    ( rj_x, rj_y, rj_z )\n",
    "                )\n",
    "                if distance <= 5.0 :\n",
    "                    proteins[ ACC ][ \"residues\" ][ ri ][ \"contacts\" ].append( rj )"
   ]
  },
  {
   "cell_type": "code",
   "execution_count": 5,
   "id": "b0750bb7",
   "metadata": {
    "scrolled": false
   },
   "outputs": [],
   "source": [
    "# Store collected data in JSON.\n",
    "with open( \"./data/proteinData.json\", \"w+\" ) as outFile :\n",
    "    json.dump( proteins, outFile, indent = 1 )"
   ]
  }
 ],
 "metadata": {
  "kernelspec": {
   "display_name": "Python 3.9.13 64-bit",
   "language": "python",
   "name": "python3"
  },
  "language_info": {
   "codemirror_mode": {
    "name": "ipython",
    "version": 3
   },
   "file_extension": ".py",
   "mimetype": "text/x-python",
   "name": "python",
   "nbconvert_exporter": "python",
   "pygments_lexer": "ipython3",
   "version": "3.9.13"
  },
  "vscode": {
   "interpreter": {
    "hash": "b0fa6594d8f4cbf19f97940f81e996739fb7646882a419484c72d19e05852a7e"
   }
  }
 },
 "nbformat": 4,
 "nbformat_minor": 5
}
